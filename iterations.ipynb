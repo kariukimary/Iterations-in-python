{
 "cells": [
  {
   "cell_type": "markdown",
   "id": "c60775e9",
   "metadata": {},
   "source": [
    "# iterations in python"
   ]
  },
  {
   "cell_type": "markdown",
   "id": "8d0f8169",
   "metadata": {},
   "source": [
    "1.)Write a program which repeatedly reads numbers until the user enters “done”. Once “done” is entered, print out the total, count, and average of the numbers. If the user enters anything other than a number, detect their mistake using try and except and print an error message and skip to the next number.\n",
    "\n"
   ]
  },
  {
   "cell_type": "code",
   "execution_count": 2,
   "id": "a279e0ae",
   "metadata": {},
   "outputs": [
    {
     "name": "stdout",
     "output_type": "stream",
     "text": [
      "enter the numbers10\n",
      "enter the numbers34\n",
      "enter the numbers56\n",
      "enter the numbers89\n",
      "enter the numbers100\n",
      "enter the numbersdone\n",
      "the sum of the numbers is 289\n",
      "the count of the numbers is 5\n",
      "the average of the numbers is 57.8\n"
     ]
    }
   ],
   "source": [
    "numbers=[]\n",
    "while True:\n",
    "    number =input(\"enter the numbers\")\n",
    "    if number==\"done\":\n",
    "        break\n",
    "    try:\n",
    "        numbers.append(int(number))\n",
    "    except valuerror:\n",
    "        print(\"enter an integer value\")\n",
    "        continue\n",
    "total=sum(numbers)\n",
    "count=len(numbers)\n",
    "average=total/count\n",
    "print(\"the sum of the numbers is\",total)\n",
    "print(\"the count of the numbers is\",count)\n",
    "print(\"the average of the numbers is\", average)"
   ]
  },
  {
   "cell_type": "markdown",
   "id": "92b2278d",
   "metadata": {},
   "source": [
    "2.)Write another program that prompts for a list of numbers as above and at the end prints out both the maximum and minimum of the numbers instead of the average."
   ]
  },
  {
   "cell_type": "code",
   "execution_count": 6,
   "id": "4e022423",
   "metadata": {},
   "outputs": [
    {
     "name": "stdout",
     "output_type": "stream",
     "text": [
      "enter the numbers20\n",
      "enter the numbers45\n",
      "enter the numbers67\n",
      "enter the numbers87\n",
      "enter the numbers\n",
      "the maximum number is  87\n",
      "the minimum numder is 20\n"
     ]
    }
   ],
   "source": [
    "numbers=[]\n",
    "while True:\n",
    "    number=input(\"enter the numbers\")\n",
    "    if number==\"\":\n",
    "        break\n",
    "    numbers.append(number)\n",
    "max_value=max(numbers)\n",
    "min_value=min(numbers)\n",
    "print(\"the maximum number is \", max_value)\n",
    "print(\"the minimum numder is\",min_value)"
   ]
  },
  {
   "cell_type": "code",
   "execution_count": null,
   "id": "cb50e3f7",
   "metadata": {},
   "outputs": [],
   "source": []
  }
 ],
 "metadata": {
  "kernelspec": {
   "display_name": "Python 3 (ipykernel)",
   "language": "python",
   "name": "python3"
  },
  "language_info": {
   "codemirror_mode": {
    "name": "ipython",
    "version": 3
   },
   "file_extension": ".py",
   "mimetype": "text/x-python",
   "name": "python",
   "nbconvert_exporter": "python",
   "pygments_lexer": "ipython3",
   "version": "3.9.7"
  }
 },
 "nbformat": 4,
 "nbformat_minor": 5
}
